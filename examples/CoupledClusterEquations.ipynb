{
 "cells": [
  {
   "cell_type": "markdown",
   "metadata": {},
   "source": [
    "# Automatic generation of coupled cluster equations\n",
    "\n",
    "In this example we use wick&d to generate arbitrary-order coupled cluster equations.\n",
    "\n",
    "## Load wick&d\n",
    "\n",
    "We start by importing the wick&d module and some other useful modules"
   ]
  },
  {
   "cell_type": "code",
   "execution_count": 1,
   "metadata": {},
   "outputs": [],
   "source": [
    "import wicked as w\n",
    "import time\n",
    "from IPython.display import display, Math, Latex\n",
    "\n",
    "def latex(expr):\n",
    "    \"\"\"Function to render any object that has a member latex() function\"\"\"\n",
    "    display(Math(expr.latex()))"
   ]
  },
  {
   "cell_type": "markdown",
   "metadata": {},
   "source": [
    "# Define the orbital spaces\n",
    "Here we define two orbital spaces consistent with a single Slater determinant reference and we assign indices. We define 1) a space of occupied orbitals (`o`) and 2) a space of unoccupied orbitals (`v`)"
   ]
  },
  {
   "cell_type": "code",
   "execution_count": 2,
   "metadata": {},
   "outputs": [],
   "source": [
    "w.reset_space()\n",
    "w.add_space('o','fermion','occupied',['i','j','k','l','m','n'])\n",
    "w.add_space('v','fermion','unoccupied',['a','b','c','d','e','f'])"
   ]
  },
  {
   "cell_type": "markdown",
   "metadata": {},
   "source": [
    "## Define the Hamiltonian operator\n",
    "\n",
    "Next, we define the components of the Hamiltonian operator"
   ]
  },
  {
   "cell_type": "code",
   "execution_count": 3,
   "metadata": {},
   "outputs": [],
   "source": [
    "E0 = w.op(\"E_0\",[''])\n",
    "F = w.utils.gen_op('f',1,'ov','ov')\n",
    "V = w.utils.gen_op('v',2,'ov','ov')\n",
    "H = E0 + F + V"
   ]
  },
  {
   "cell_type": "markdown",
   "metadata": {},
   "source": [
    "## Define a function to compute the cluster operator truncated to level *n*\n",
    "\n",
    "Since we are interested in arbitrary-order equations, we write a simple function that generates the cluster operator for any truncation level $n$"
   ]
  },
  {
   "cell_type": "code",
   "execution_count": 4,
   "metadata": {},
   "outputs": [
    {
     "data": {
      "text/plain": [
       "+ t { v+ o }\n",
       "+ 1/4 t { v+ v+ o o }\n",
       "+ 1/36 t { v+ v+ v+ o o o }"
      ]
     },
     "execution_count": 4,
     "metadata": {},
     "output_type": "execute_result"
    }
   ],
   "source": [
    "def make_T(n):\n",
    "    components = [f\"{'v+' * k} {'o' * k}\" for k in range(1,n + 1)]\n",
    "    return w.op(\"t\",components)\n",
    "\n",
    "make_T(3)"
   ]
  },
  {
   "cell_type": "markdown",
   "metadata": {},
   "source": [
    "## Setup the similarity-transformed Hamiltonian and compute expectation value\n",
    "\n",
    "Here we define a function that defines the cluster operator, computes $\\bar{H}$, and evaluates Wick's theorem.\n",
    "At the end we derive many-body equations and count how many operators are there for each excitation rank."
   ]
  },
  {
   "cell_type": "code",
   "execution_count": 5,
   "metadata": {},
   "outputs": [],
   "source": [
    "def cc_equations(n):\n",
    "    start = time.perf_counter()\n",
    "    wt = w.WickTheorem()\n",
    "\n",
    "    T = make_T(n)\n",
    "    Hbar = w.bch_series(H,T,4)\n",
    "    expr = wt.contract(w.rational(1), Hbar, 0, 2 * n)\n",
    "    mbeq = expr.to_manybody_equation(\"r\")\n",
    "    end = time.perf_counter()    \n",
    "    t = end - start\n",
    "    \n",
    "    equations = {}\n",
    "    for r in range(0,n + 1):\n",
    "        s = f\"{'o' * r}|{'v' * r}\" \n",
    "        equations[r] = (mbeq[s])      \n",
    "        \n",
    "    return equations, t"
   ]
  },
  {
   "cell_type": "markdown",
   "metadata": {},
   "source": [
    "## Running the code\n",
    "\n",
    "In the next line we run the code and get the timing!"
   ]
  },
  {
   "cell_type": "code",
   "execution_count": 6,
   "metadata": {},
   "outputs": [
    {
     "name": "stdout",
     "output_type": "stream",
     "text": [
      "Rank 0: 4 equations\n",
      "Rank 1: 15 equations\n",
      "Rank 2: 38 equations\n",
      "Rank 3: 54 equations\n",
      "Rank 4: 80 equations\n",
      "Rank 5: 99 equations\n",
      "\n",
      "Generated 290 equations in 6.664 seconds\n"
     ]
    }
   ],
   "source": [
    "equations, t = cc_equations(5)\n",
    "\n",
    "# count the number of terms for each rank\n",
    "s = 0\n",
    "for rank,eq in equations.items():\n",
    "    print(f'Rank {rank}: {len(eq)} equations')  \n",
    "    s += len(eq)\n",
    "    \n",
    "print(f'\\nGenerated {s} equations in {t:.3f} seconds')    "
   ]
  },
  {
   "cell_type": "markdown",
   "metadata": {},
   "source": [
    "We can inspect all the singles equations"
   ]
  },
  {
   "cell_type": "code",
   "execution_count": null,
   "metadata": {},
   "outputs": [],
   "source": [
    "equations[1]"
   ]
  },
  {
   "cell_type": "markdown",
   "metadata": {},
   "source": [
    "And generate nice-looking equations"
   ]
  },
  {
   "cell_type": "code",
   "execution_count": null,
   "metadata": {},
   "outputs": [],
   "source": [
    "for eq in equations[1]:\n",
    "    latex(eq)"
   ]
  },
  {
   "cell_type": "markdown",
   "metadata": {},
   "source": [
    "## Counting the number of diagrams\n",
    "\n",
    "In the following we generate a table that reports the total number of coupled cluster diagrams for up to CCSDTQP"
   ]
  },
  {
   "cell_type": "code",
   "execution_count": 7,
   "metadata": {},
   "outputs": [
    {
     "name": "stdout",
     "output_type": "stream",
     "text": [
      "=======================================\n",
      " n  time      Excitation level \n",
      "     (s)    0    1    2    3    4    5 \n",
      "---------------------------------------\n",
      " 1   0.0    3    8\n",
      " 2   0.1    4   14   31\n",
      " 3   0.7    4   15   37   47\n",
      " 4   2.5    4   15   38   53   74\n",
      " 5   6.6    4   15   38   54   80   99\n",
      "=======================================\n"
     ]
    }
   ],
   "source": [
    "rows = []\n",
    "for n in range(1,6):\n",
    "    equations, t = cc_equations(n)\n",
    "    count = \" \".join([f'{len(eqs):4d}' for k, eqs in equations.items()])\n",
    "    rows.append(f' {n}  {t:4.1f} {count}')\n",
    "\n",
    "width = 39\n",
    "print(f'{\"=\" * width}')\n",
    "print(f' n  time      Excitation level ')\n",
    "print(f'     (s)    0    1    2    3    4    5 ')\n",
    "print(f'{\"-\" * width}')\n",
    "print(\"\\n\".join(rows))\n",
    "print(f'{\"=\" * width}')    "
   ]
  },
  {
   "cell_type": "code",
   "execution_count": null,
   "metadata": {},
   "outputs": [],
   "source": []
  }
 ],
 "metadata": {
  "anaconda-cloud": {},
  "interpreter": {
   "hash": "88f88d9c6713632702ca46f35cc29abd40712363bdc79e6cb9f82b3a54331305"
  },
  "kernelspec": {
   "display_name": "Python 3 (ipykernel)",
   "language": "python",
   "name": "python3"
  },
  "language_info": {
   "codemirror_mode": {
    "name": "ipython",
    "version": 3
   },
   "file_extension": ".py",
   "mimetype": "text/x-python",
   "name": "python",
   "nbconvert_exporter": "python",
   "pygments_lexer": "ipython3",
   "version": "3.10.6"
  }
 },
 "nbformat": 4,
 "nbformat_minor": 1
}
