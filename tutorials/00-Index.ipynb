{
 "cells": [
  {
   "cell_type": "markdown",
   "id": "183f8d46",
   "metadata": {},
   "source": [
    "# Wick&d Tutorial Introduction\n",
    "\n",
    "The following is a list of tutorials that will teach you the basics of Wick&d. Watch out for new tutorials posted to the Wick&d GitHub repository!"
   ]
  },
  {
   "cell_type": "markdown",
   "id": "e244dd5d",
   "metadata": {},
   "source": [
    "1. [Basics of Wick&d](01-Basics.ipynb)\n",
    "1. [Operators in Wick&d](02-Operators.ipynb)\n",
    "1. [Applying Wick's theorem to simplify expressions](03-WickTheorem.ipynb)\n",
    "1. [Generating code with Wick&d](04-GeneratingCode.ipynb)\n",
    "1. [Understanding the inner workings of Wick&d](05-Expressions.ipynb)"
   ]
  },
  {
   "cell_type": "markdown",
   "id": "aa8b24d0",
   "metadata": {},
   "source": [
    "## The theory behind Wick&d"
   ]
  },
  {
   "cell_type": "markdown",
   "id": "0acbe54e",
   "metadata": {},
   "source": [
    "The details of how Wick&d works can be found in the following [article](https://doi.org/10.1063/5.0097858)."
   ]
  },
  {
   "cell_type": "markdown",
   "id": "c9fb4937",
   "metadata": {},
   "source": [
    "## Notation used in the tutorials\n",
    "\n",
    "- $\\psi_p$: spinorbitals\n",
    "- $\\mathbb{S} = \\{ \\psi_p \\}$: the orbital space\n",
    "- $\\mathbb{O},\\mathbb{C},\\mathbb{A},\\mathbb{V},\\cdots$: orbital subspaces\n",
    "- $\\hat{a}^\\dagger_p$ and $\\hat{a}_q$: second-quantized creation and annihilation operators\n",
    "- $\\Phi$: Slater determinant"
   ]
  },
  {
   "cell_type": "markdown",
   "id": "dc81a6ea",
   "metadata": {},
   "source": []
  }
 ],
 "metadata": {
  "kernelspec": {
   "display_name": "Python 3",
   "language": "python",
   "name": "python3"
  },
  "language_info": {
   "codemirror_mode": {
    "name": "ipython",
    "version": 3
   },
   "file_extension": ".py",
   "mimetype": "text/x-python",
   "name": "python",
   "nbconvert_exporter": "python",
   "pygments_lexer": "ipython3",
   "version": "3.8.8"
  }
 },
 "nbformat": 4,
 "nbformat_minor": 5
}
