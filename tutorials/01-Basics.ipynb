{
 "cells": [
  {
   "cell_type": "markdown",
   "metadata": {},
   "source": [
    "# Basics of Wick&d\n",
    "\n",
    "## Loading the module\n",
    "\n",
    "To use Wick&d you will have to first import the module `wicked`. Here we abbreviate it with `w` for convenience. We also define a function (`latex`) to display objects in LaTeX format."
   ]
  },
  {
   "cell_type": "code",
   "execution_count": 1,
   "metadata": {},
   "outputs": [],
   "source": [
    "import wicked as w\n",
    "from IPython.display import display, Math, Latex\n",
    "\n",
    "def latex(expr):\n",
    "    \"\"\"Function to render any object that has a member latex() function\"\"\"\n",
    "    display(Math(expr.latex()))"
   ]
  },
  {
   "cell_type": "markdown",
   "metadata": {},
   "source": [
    "## Defining orbital spaces\n",
    "\n",
    "To use Wick&d, you need to specify what type of reference state is used as a vacuum state. This information is stored in the `OrbitalsSpaceInfo` class, which holds information about the orbital space defined. We get access to this object (a singleton) via the function `osi()`. Calling the print function we can the see information about the orbital spaces defined. When Wick&d is initialized, no orbital space is defined and no text is printed:"
   ]
  },
  {
   "cell_type": "code",
   "execution_count": 2,
   "metadata": {},
   "outputs": [
    {
     "name": "stdout",
     "output_type": "stream",
     "text": [
      "\n"
     ]
    }
   ],
   "source": [
    "osi = w.osi()\n",
    "print(str(osi))"
   ]
  },
  {
   "cell_type": "markdown",
   "metadata": {},
   "source": [
    "## Defining orbital spaces\n",
    "\n",
    "To define an orbital space one must specify:\n",
    "- The label (a single character, e.g., 'o' for occupied)\n",
    "- The type of operator field (a string, currently the only option is `\"fermion\"`).\n",
    "- The type of reference state associated with this space (a string, one of `[\"occupied\", \"unoccupied\", \"general\"]`)\n",
    "- The *pretty* indices that we associate with this space (e.g., `['i','j','k']` for occupied orbitals)\n",
    "\n",
    "Wick&d defines three types of occupations associated to each space:\n",
    "- **Occupied** (`occupied`): orbitals that are occupied in the vacuum (applies to fermions)\n",
    "- **Unoccupied** (`unoccupied`): orbitals that are unoccupied in the vacuum\n",
    "- **General** (`general`): orbitals that are partially occupied in the vacuum"
   ]
  },
  {
   "cell_type": "markdown",
   "metadata": {},
   "source": [
    "## Examples of different reference states/orbital spaces\n",
    "\n",
    "### Physical vacuum\n",
    "The reference state is the physical vacuum state\n",
    "\\begin{equation}\n",
    "| - \\rangle\n",
    "\\end{equation}\n",
    "In this case all orbitals are unoccupied. The following code initializes a single orbital space with label `p` and unoccupied orbitals:"
   ]
  },
  {
   "cell_type": "code",
   "execution_count": 3,
   "metadata": {},
   "outputs": [],
   "source": [
    "w.reset_space()\n",
    "w.add_space(\"p\", \"fermion\", \"unoccupied\", ['a','b','c','d','e','f'])"
   ]
  },
  {
   "cell_type": "markdown",
   "metadata": {},
   "source": [
    "### Single determinant (Fermi vacuum)\n",
    "\n",
    "The reference state is the determinant\n",
    "\\begin{equation}\n",
    "| \\Phi \\rangle = |\\psi_1 \\cdots \\psi_N \\rangle\n",
    "\\end{equation}\n",
    "In this case you need to specify only two spaces, occupied and unoccupied orbitals. The following code initializes two spaces: 1) occupied (`o`) and 2) virtual (`v`) orbitals,"
   ]
  },
  {
   "cell_type": "code",
   "execution_count": 4,
   "metadata": {},
   "outputs": [],
   "source": [
    "w.reset_space()\n",
    "w.add_space(\"o\", \"fermion\", \"occupied\", ['i','j','k','l','m'])\n",
    "w.add_space(\"v\", \"fermion\", \"unoccupied\", ['a','b','c','d','e','f'])"
   ]
  },
  {
   "cell_type": "markdown",
   "metadata": {},
   "source": [
    "### Linear combination of determinants (Generalized vacuum)\n",
    "\n",
    "This case requires three orbital spaces: core (`occupied`), active (`general`), and virtual (`unoccupied`).\n",
    "The reference is a linear combination of determinants\n",
    "\\begin{equation}\n",
    "| \\Psi \\rangle = \\sum_\\mu c_\\mu | \\Phi_\\mu \\rangle \n",
    "\\end{equation}\n",
    "where each determinant $| \\Phi_\\mu \\rangle $ is \n",
    "\\begin{equation}\n",
    "| \\Phi_\\mu \\rangle = \\underbrace{\\hat{a}^\\dagger_u \\hat{a}^\\dagger_v \\cdots}_{\\text{active}} | \\Phi_\\mathrm{c} \\rangle\n",
    "\\end{equation}\n",
    "where the core determinant $|\\Phi_\\mathrm{c} \\rangle$ is defined as\n",
    "\\begin{equation}\n",
    "| \\Phi_\\mathrm{c} \\rangle = |\\psi_1 \\cdots \\psi_{N_\\mathrm{c}} \\rangle.\n",
    "\\end{equation}\n",
    "To specify this reference you can use the code:"
   ]
  },
  {
   "cell_type": "code",
   "execution_count": 5,
   "metadata": {},
   "outputs": [],
   "source": [
    "w.reset_space()\n",
    "w.add_space(\"c\", \"fermion\", \"occupied\", ['i','j','k','l','m'])\n",
    "w.add_space(\"a\", \"fermion\", \"general\", ['u','v','w','x','y','z'])\n",
    "w.add_space(\"v\", \"fermion\", \"unoccupied\", ['a','b','c','d','e','f'])"
   ]
  },
  {
   "cell_type": "markdown",
   "metadata": {},
   "source": [
    "We can now verify that the orbital spaces have been updated"
   ]
  },
  {
   "cell_type": "code",
   "execution_count": 6,
   "metadata": {},
   "outputs": [
    {
     "name": "stdout",
     "output_type": "stream",
     "text": [
      "space label: c\n",
      "field type: fermion\n",
      "space type: occupied\n",
      "indices: [i,j,k,l,m]\n",
      "\n",
      "space label: a\n",
      "field type: fermion\n",
      "space type: general\n",
      "indices: [u,v,w,x,y,z]\n",
      "\n",
      "space label: v\n",
      "field type: fermion\n",
      "space type: unoccupied\n",
      "indices: [a,b,c,d,e,f]\n"
     ]
    }
   ],
   "source": [
    "print(str(osi))"
   ]
  }
 ],
 "metadata": {
  "anaconda-cloud": {},
  "interpreter": {
   "hash": "88f88d9c6713632702ca46f35cc29abd40712363bdc79e6cb9f82b3a54331305"
  },
  "kernelspec": {
   "display_name": "Python 3",
   "language": "python",
   "name": "python3"
  },
  "language_info": {
   "codemirror_mode": {
    "name": "ipython",
    "version": 3
   },
   "file_extension": ".py",
   "mimetype": "text/x-python",
   "name": "python",
   "nbconvert_exporter": "python",
   "pygments_lexer": "ipython3",
   "version": "3.8.8"
  }
 },
 "nbformat": 4,
 "nbformat_minor": 4
}
