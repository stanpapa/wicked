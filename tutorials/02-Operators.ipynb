{
 "cells": [
  {
   "cell_type": "markdown",
   "metadata": {},
   "source": [
    "# Operators\n",
    "\n",
    "## Preliminaries\n",
    "\n",
    "Let's start by importing Wick&d and defining a Slater determinant reference"
   ]
  },
  {
   "cell_type": "code",
   "execution_count": 1,
   "metadata": {},
   "outputs": [],
   "source": [
    "import wicked as w\n",
    "from IPython.display import display, Math, Latex\n",
    "\n",
    "def latex(expr):\n",
    "    \"\"\"Function to render any object that has a member latex() function\"\"\"\n",
    "    display(Math(expr.latex()))\n",
    "    \n",
    "w.reset_space()\n",
    "w.add_space(\"o\", \"fermion\", \"occupied\", ['i','j','k','l','m'])\n",
    "w.add_space(\"v\", \"fermion\", \"unoccupied\", ['a','b','c','d','e','f'])    "
   ]
  },
  {
   "cell_type": "markdown",
   "metadata": {},
   "source": [
    "## Canonical representation of operators in wick&d\n",
    "\n",
    "Wick&d defines a **canonical form** for operators. A canonical operator satisfies the following conditions:\n",
    "- creation operators are to the left of annihilation operators\n",
    "- all operators are normal ordered with respect to the reference state\n",
    "- the numerical tensor that multiplies a product of second quantized operators is antisymmetric with respect to permutation of upper (annihilation) and lower (creation) indices\n",
    "\n",
    "In this case, you only need to indicate which type of second quantized operators and which orbital space they act on to fully specify a general operator.\n",
    "\n",
    "For example, the one-body operator\n",
    "\\begin{equation}\n",
    "\\sum_{ij}^\\mathbb{O} h_{i}^{j} \\{ \\hat{a}^{\\dagger}_{i} \\hat{a}_{j} \\}\n",
    "\\equiv \\sum_{ij}^\\mathbb{O} h_{i}^{j} \\{ \\hat{a}^{i}_{j} \\}\n",
    "\\end{equation}\n",
    "can be created using the `op` function and passing the operator label (`h`) and a list of second quantized operators that appear in it (`['o+ o']`)"
   ]
  },
  {
   "cell_type": "code",
   "execution_count": 2,
   "metadata": {},
   "outputs": [
    {
     "data": {
      "text/plain": [
       "+ h { o+ o }"
      ]
     },
     "execution_count": 2,
     "metadata": {},
     "output_type": "execute_result"
    }
   ],
   "source": [
    "Hoo = w.op('h',['o+ o'])\n",
    "Hoo"
   ]
  },
  {
   "cell_type": "markdown",
   "metadata": {},
   "source": [
    "If we specify the operators in a noncanonical order, Wick&d will resort the operators and **ignore any sign change**:"
   ]
  },
  {
   "cell_type": "code",
   "execution_count": 3,
   "metadata": {},
   "outputs": [
    {
     "data": {
      "text/plain": [
       "+ h { o+ o }"
      ]
     },
     "execution_count": 3,
     "metadata": {},
     "output_type": "execute_result"
    }
   ],
   "source": [
    "Hoo = w.op('h',['o o+'])\n",
    "Hoo"
   ]
  },
  {
   "cell_type": "markdown",
   "metadata": {},
   "source": [
    "The following two-electron operator\n",
    "\\begin{equation}\n",
    "\\frac{1}{4} \\sum_{ij}^\\mathbb{O} \\sum_{ab}^\\mathbb{V} v_{ij}^{ab} \\{  \\hat{a}^{\\dagger}_{i} \\hat{a}^{\\dagger}_{j} \\hat{a}_{b} \\hat{a}_{a} \\}\n",
    "\\end{equation}\n",
    "can be requested with"
   ]
  },
  {
   "cell_type": "code",
   "execution_count": 4,
   "metadata": {},
   "outputs": [
    {
     "data": {
      "text/plain": [
       "+ 1/4 v { o+ o+ v v }"
      ]
     },
     "execution_count": 4,
     "metadata": {},
     "output_type": "execute_result"
    }
   ],
   "source": [
    "Voovv = w.op('v',['o+ o+ v v'])\n",
    "Voovv"
   ]
  },
  {
   "cell_type": "markdown",
   "metadata": {},
   "source": [
    "Note that we did not have to specify the numerical prefactor (1/4) since wick&d can determine it automatically by counting the number of equivalent operators\n",
    "\n",
    "If an operator involves multiple orbital spaces, like the following operator\n",
    "\\begin{equation}\n",
    "\\sum_{ij}^\\mathbb{O} f_{i}^{j} \\{ \\hat{a}^{i}_{j} \\}\n",
    "+ \\sum_{ab}^\\mathbb{V} f_{a}^{b} \\{ \\hat{a}^{a}_{b} \\}\n",
    "\\end{equation}\n",
    "we can just pass a list with all the components"
   ]
  },
  {
   "cell_type": "code",
   "execution_count": 5,
   "metadata": {},
   "outputs": [
    {
     "data": {
      "text/plain": [
       "+ f { v+ v }\n",
       "+ f { o+ o }"
      ]
     },
     "execution_count": 5,
     "metadata": {},
     "output_type": "execute_result"
    }
   ],
   "source": [
    "Fd = w.op('f',['o+ o','v+ v'])\n",
    "Fd"
   ]
  },
  {
   "cell_type": "markdown",
   "metadata": {},
   "source": [
    "## Defining operators via the utlility function `gen_op` \n",
    "\n",
    "When we want to specify an operator that contains all the possible combination of second quantized operators we can use the `gen_op` function.\n",
    "A general one-body operator with all components can be generated via:"
   ]
  },
  {
   "cell_type": "code",
   "execution_count": 6,
   "metadata": {},
   "outputs": [
    {
     "data": {
      "text/plain": [
       "+ F { v+ v }\n",
       "+ F { v+ o }\n",
       "+ F { o+ v }\n",
       "+ F { o+ o }"
      ]
     },
     "execution_count": 6,
     "metadata": {},
     "output_type": "execute_result"
    }
   ],
   "source": [
    "w.utils.gen_op('F',1,'ov','ov')"
   ]
  },
  {
   "cell_type": "markdown",
   "metadata": {},
   "source": [
    "While a two-body operator can be obtained via"
   ]
  },
  {
   "cell_type": "code",
   "execution_count": 7,
   "metadata": {},
   "outputs": [
    {
     "data": {
      "text/plain": [
       "+ 1/4 V { v+ v+ v v }\n",
       "+ 1/2 V { v+ v+ v o }\n",
       "+ 1/4 V { v+ v+ o o }\n",
       "+ 1/2 V { o+ v+ v v }\n",
       "+ V { o+ v+ v o }\n",
       "+ 1/2 V { o+ v+ o o }\n",
       "+ 1/4 V { o+ o+ v v }\n",
       "+ 1/2 V { o+ o+ v o }\n",
       "+ 1/4 V { o+ o+ o o }"
      ]
     },
     "execution_count": 7,
     "metadata": {},
     "output_type": "execute_result"
    }
   ],
   "source": [
    "w.utils.gen_op('V',2,'ov','ov')"
   ]
  },
  {
   "cell_type": "markdown",
   "metadata": {},
   "source": [
    "We can also exclude diagonal components via the optional argument `diagonal=False`"
   ]
  },
  {
   "cell_type": "code",
   "execution_count": 8,
   "metadata": {},
   "outputs": [
    {
     "data": {
      "text/plain": [
       "+ F { v+ o }\n",
       "+ F { o+ v }"
      ]
     },
     "execution_count": 8,
     "metadata": {},
     "output_type": "execute_result"
    }
   ],
   "source": [
    "w.utils.gen_op('F',1,'ov','ov',diagonal=False)"
   ]
  },
  {
   "cell_type": "markdown",
   "metadata": {},
   "source": [
    "## Operator expressions and manipulation\n",
    "\n",
    "Wick&d provides several functions to handle operator expressions (linear combinations of products of operators).\n",
    "For example, operators can be multiplied using the noncommutative multiplication operation (`@`)"
   ]
  },
  {
   "cell_type": "code",
   "execution_count": 9,
   "metadata": {},
   "outputs": [
    {
     "data": {
      "text/plain": [
       "+ A { o+ v } B { v+ o }"
      ]
     },
     "execution_count": 9,
     "metadata": {},
     "output_type": "execute_result"
    }
   ],
   "source": [
    "A = w.op('A',['o+ v'])\n",
    "B = w.op('B',['v+ o'])\n",
    "C = w.op('C',['o+ o'])\n",
    "AB = A @ B\n",
    "AB"
   ]
  },
  {
   "cell_type": "markdown",
   "metadata": {},
   "source": [
    "We can also compute the commutator of two operators using the `commutator` function\n",
    "\\begin{equation}\n",
    "[\\hat{A},\\hat{B}]\n",
    "\\end{equation}"
   ]
  },
  {
   "cell_type": "code",
   "execution_count": 10,
   "metadata": {},
   "outputs": [
    {
     "data": {
      "text/plain": [
       "+ A { o+ v } B { v+ o }\n",
       "- B { v+ o } A { o+ v }"
      ]
     },
     "execution_count": 10,
     "metadata": {},
     "output_type": "execute_result"
    }
   ],
   "source": [
    "AB_comm = w.commutator(A,B)\n",
    "AB_comm"
   ]
  },
  {
   "cell_type": "markdown",
   "metadata": {},
   "source": [
    "The function `commutator` accepts an arbitrary number of arguments, and can be used to evaluate nested commutators of the form\n",
    "\\begin{equation}\n",
    "[\\ldots[[\\hat{A},\\hat{B}],\\hat{C}],\\ldots]\n",
    "\\end{equation}\n",
    "For example the commutator $[[\\hat{A},\\hat{B}],\\hat{C}]$ can be evaluated as"
   ]
  },
  {
   "cell_type": "code",
   "execution_count": 11,
   "metadata": {},
   "outputs": [
    {
     "data": {
      "text/plain": [
       "+ A { o+ v } B { v+ o } C { o+ o }\n",
       "- B { v+ o } A { o+ v } C { o+ o }\n",
       "- C { o+ o } A { o+ v } B { v+ o }\n",
       "+ C { o+ o } B { v+ o } A { o+ v }"
      ]
     },
     "execution_count": 11,
     "metadata": {},
     "output_type": "execute_result"
    }
   ],
   "source": [
    "AB_comm = w.commutator(A,B,C)\n",
    "AB_comm"
   ]
  },
  {
   "cell_type": "markdown",
   "metadata": {},
   "source": [
    "We can also compute truncated expansion of the Baker–Campbell–Hausdorff formula\n",
    "\\begin{equation}\n",
    "\\exp(-\\hat{B})\\hat{A}\\exp(\\hat{B}) = \\hat{A} + \\frac{1}{1!} [\\hat{A},\\hat{B}]+\n",
    "+ \\frac{1}{2!} [[\\hat{A},\\hat{B}],\\hat{B}]\n",
    "+ \\frac{1}{3!} [[[\\hat{A},\\hat{B}],\\hat{B}],\\hat{B}] + \\cdots\n",
    "\\end{equation}\n",
    "For example, the series truncated to two commutators is given by"
   ]
  },
  {
   "cell_type": "code",
   "execution_count": 12,
   "metadata": {},
   "outputs": [
    {
     "data": {
      "text/plain": [
       "+ A { o+ v }\n",
       "+ A { o+ v } B { v+ o }\n",
       "+1/2 A { o+ v } B { v+ o } B { v+ o }\n",
       "- B { v+ o } A { o+ v }\n",
       "- B { v+ o } A { o+ v } B { v+ o }\n",
       "+1/2 B { v+ o } B { v+ o } A { o+ v }"
      ]
     },
     "execution_count": 12,
     "metadata": {},
     "output_type": "execute_result"
    }
   ],
   "source": [
    "AB_bch = w.bch_series(A,B,2)\n",
    "AB_bch"
   ]
  },
  {
   "cell_type": "markdown",
   "metadata": {},
   "source": [
    "When operators commute, one can simplify operator expressions by bringing all terms in a canonical order"
   ]
  },
  {
   "cell_type": "code",
   "execution_count": 13,
   "metadata": {},
   "outputs": [
    {
     "data": {
      "text/plain": [
       "+ C { o+ o }\n",
       "+ C { o+ o } D { v+ v }\n",
       "+1/2 C { o+ o } D { v+ v } D { v+ v }\n",
       "+1/6 C { o+ o } D { v+ v } D { v+ v } D { v+ v }\n",
       "+1/24 C { o+ o } D { v+ v } D { v+ v } D { v+ v } D { v+ v }\n",
       "- D { v+ v } C { o+ o }\n",
       "- D { v+ v } C { o+ o } D { v+ v }\n",
       "-1/2 D { v+ v } C { o+ o } D { v+ v } D { v+ v }\n",
       "-1/6 D { v+ v } C { o+ o } D { v+ v } D { v+ v } D { v+ v }\n",
       "+1/2 D { v+ v } D { v+ v } C { o+ o }\n",
       "+1/2 D { v+ v } D { v+ v } C { o+ o } D { v+ v }\n",
       "+1/4 D { v+ v } D { v+ v } C { o+ o } D { v+ v } D { v+ v }\n",
       "-1/6 D { v+ v } D { v+ v } D { v+ v } C { o+ o }\n",
       "-1/6 D { v+ v } D { v+ v } D { v+ v } C { o+ o } D { v+ v }\n",
       "+1/24 D { v+ v } D { v+ v } D { v+ v } D { v+ v } C { o+ o }"
      ]
     },
     "execution_count": 13,
     "metadata": {},
     "output_type": "execute_result"
    }
   ],
   "source": [
    "C = w.op('C',['o+ o'])\n",
    "D = w.op('D',['v+ v'])\n",
    "CD_bch = w.bch_series(C,D,4)\n",
    "CD_bch"
   ]
  },
  {
   "cell_type": "markdown",
   "metadata": {},
   "source": [
    "In this case the canonical ordering leads to cancellation of all product terms"
   ]
  },
  {
   "cell_type": "code",
   "execution_count": 14,
   "metadata": {
    "scrolled": true
   },
   "outputs": [
    {
     "data": {
      "text/plain": [
       "+ C { o+ o }"
      ]
     },
     "execution_count": 14,
     "metadata": {},
     "output_type": "execute_result"
    }
   ],
   "source": [
    "CD_bch.canonicalize()\n",
    "CD_bch"
   ]
  }
 ],
 "metadata": {
  "anaconda-cloud": {},
  "interpreter": {
   "hash": "88f88d9c6713632702ca46f35cc29abd40712363bdc79e6cb9f82b3a54331305"
  },
  "kernelspec": {
   "display_name": "Python 3",
   "language": "python",
   "name": "python3"
  },
  "language_info": {
   "codemirror_mode": {
    "name": "ipython",
    "version": 3
   },
   "file_extension": ".py",
   "mimetype": "text/x-python",
   "name": "python",
   "nbconvert_exporter": "python",
   "pygments_lexer": "ipython3",
   "version": "3.8.8"
  }
 },
 "nbformat": 4,
 "nbformat_minor": 4
}
