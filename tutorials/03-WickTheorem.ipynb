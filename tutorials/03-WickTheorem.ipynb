{
 "cells": [
  {
   "cell_type": "markdown",
   "metadata": {},
   "source": [
    "# Generating Wick's theorem contractions\n",
    "\n",
    "## Preliminaries\n",
    "\n",
    "Let's start by importing Wick&d and defining a Slater determinant reference"
   ]
  },
  {
   "cell_type": "code",
   "execution_count": 1,
   "metadata": {},
   "outputs": [],
   "source": [
    "import wicked as w\n",
    "from IPython.display import display, Math, Latex\n",
    "\n",
    "def latex(expr):\n",
    "    \"\"\"Function to render any object that has a member latex() function\"\"\"\n",
    "    display(Math(expr.latex()))\n",
    "    \n",
    "w.reset_space()\n",
    "w.add_space(\"o\", \"fermion\", \"occupied\", ['i','j','k','l','m'])\n",
    "w.add_space(\"v\", \"fermion\", \"unoccupied\", ['a','b','c','d','e','f'])    "
   ]
  },
  {
   "cell_type": "markdown",
   "metadata": {},
   "source": [
    "## Wick's theorem contractions\n",
    "\n",
    "Consider the product of operators\n",
    "\\begin{equation}\n",
    "\\hat{F} \\hat{T}_1 = \n",
    "\\left( \\sum_{pq}^\\mathbb{O \\cup V} f_{p}^{q} \\{ \\hat{a}^{p}_{q} \\} \\right)\n",
    "\\left( \\sum_{i}^\\mathbb{O} \\sum_{a}^\\mathbb{V} t_{a}^{i} \\{ \\hat{a}^{a}_{i} \\} \\right)\n",
    "\\end{equation}\n",
    "which we can create with the following code:"
   ]
  },
  {
   "cell_type": "code",
   "execution_count": 2,
   "metadata": {},
   "outputs": [
    {
     "name": "stdout",
     "output_type": "stream",
     "text": [
      "+ f { v+ v } t { v+ o }\n",
      "+ f { v+ o } t { v+ o }\n",
      "+ f { o+ v } t { v+ o }\n",
      "+ f { o+ o } t { v+ o }\n"
     ]
    }
   ],
   "source": [
    "F = w.utils.gen_op('f',1,'ov','ov')\n",
    "T1 = w.op('t',['v+ o'])\n",
    "FT1 = F @ T1\n",
    "print(FT1)"
   ]
  },
  {
   "cell_type": "markdown",
   "metadata": {},
   "source": [
    "To apply Wick's theorem to this product, you need to create a WickTheorem object. You can compute the contraction with the `contraction` function.\n",
    "This function takes as arguments the operator expression to contract and the minimum and maximum number of second quantized operators in the final expression (`minrank/maxrank`). Here we request all terms with zero to four second quantized operators:"
   ]
  },
  {
   "cell_type": "code",
   "execution_count": 3,
   "metadata": {},
   "outputs": [
    {
     "data": {
      "text/plain": [
       "f^{o1}_{o0} t^{o2}_{v0} a+(o0) a+(v0) a-(o2) a-(o1)\n",
       "+f^{v0}_{o0} t^{o0}_{v0}\n",
       "+f^{v0}_{o0} t^{o1}_{v0} a+(o0) a-(o1)\n",
       "-f^{v0}_{o0} t^{o0}_{v1} a+(v1) a-(v0)\n",
       "-f^{v0}_{o0} t^{o1}_{v1} a+(o0) a+(v1) a-(v0) a-(o1)\n",
       "-f^{o0}_{o1} t^{o1}_{v0} a+(v0) a-(o0)\n",
       "+f^{o0}_{v0} t^{o1}_{v1} a+(v0) a+(v1) a-(o1) a-(o0)\n",
       "+f^{v1}_{v0} t^{o0}_{v1} a+(v0) a-(o0)\n",
       "-f^{v1}_{v0} t^{o0}_{v2} a+(v0) a+(v2) a-(v1) a-(o0)"
      ]
     },
     "execution_count": 3,
     "metadata": {},
     "output_type": "execute_result"
    }
   ],
   "source": [
    "wt = w.WickTheorem()\n",
    "expr = wt.contract(FT1,minrank=0,maxrank=4)\n",
    "expr"
   ]
  },
  {
   "cell_type": "markdown",
   "metadata": {},
   "source": [
    "You can get a LaTeX expression with the `latex()` function"
   ]
  },
  {
   "cell_type": "code",
   "execution_count": 4,
   "metadata": {},
   "outputs": [
    {
     "name": "stdout",
     "output_type": "stream",
     "text": [
      "+ {f}^{j}_{i} {t}^{k}_{a} \\hat{a}^{i} \\hat{a}^{a} \\hat{a}_{k} \\hat{a}_{j} \\\\ \n",
      "+ {f}^{a}_{i} {t}^{i}_{a} \\\\ \n",
      "+ {f}^{a}_{i} {t}^{j}_{a} \\hat{a}^{i} \\hat{a}_{j} \\\\ \n",
      "- {f}^{a}_{i} {t}^{i}_{b} \\hat{a}^{b} \\hat{a}_{a} \\\\ \n",
      "- {f}^{a}_{i} {t}^{j}_{b} \\hat{a}^{i} \\hat{a}^{b} \\hat{a}_{a} \\hat{a}_{j} \\\\ \n",
      "- {f}^{i}_{j} {t}^{j}_{a} \\hat{a}^{a} \\hat{a}_{i} \\\\ \n",
      "+ {f}^{i}_{a} {t}^{j}_{b} \\hat{a}^{a} \\hat{a}^{b} \\hat{a}_{j} \\hat{a}_{i} \\\\ \n",
      "+ {f}^{b}_{a} {t}^{i}_{b} \\hat{a}^{a} \\hat{a}_{i} \\\\ \n",
      "- {f}^{b}_{a} {t}^{i}_{c} \\hat{a}^{a} \\hat{a}^{c} \\hat{a}_{b} \\hat{a}_{i}\n"
     ]
    }
   ],
   "source": [
    "print(expr.latex())"
   ]
  },
  {
   "cell_type": "markdown",
   "metadata": {},
   "source": [
    "Or render the expression directly in a notebook"
   ]
  },
  {
   "cell_type": "code",
   "execution_count": 5,
   "metadata": {},
   "outputs": [
    {
     "data": {
      "text/latex": [
       "$\\displaystyle + {f}^{j}_{i} {t}^{k}_{a} \\hat{a}^{i} \\hat{a}^{a} \\hat{a}_{k} \\hat{a}_{j} \\\\ \n",
       "+ {f}^{a}_{i} {t}^{i}_{a} \\\\ \n",
       "+ {f}^{a}_{i} {t}^{j}_{a} \\hat{a}^{i} \\hat{a}_{j} \\\\ \n",
       "- {f}^{a}_{i} {t}^{i}_{b} \\hat{a}^{b} \\hat{a}_{a} \\\\ \n",
       "- {f}^{a}_{i} {t}^{j}_{b} \\hat{a}^{i} \\hat{a}^{b} \\hat{a}_{a} \\hat{a}_{j} \\\\ \n",
       "- {f}^{i}_{j} {t}^{j}_{a} \\hat{a}^{a} \\hat{a}_{i} \\\\ \n",
       "+ {f}^{i}_{a} {t}^{j}_{b} \\hat{a}^{a} \\hat{a}^{b} \\hat{a}_{j} \\hat{a}_{i} \\\\ \n",
       "+ {f}^{b}_{a} {t}^{i}_{b} \\hat{a}^{a} \\hat{a}_{i} \\\\ \n",
       "- {f}^{b}_{a} {t}^{i}_{c} \\hat{a}^{a} \\hat{a}^{c} \\hat{a}_{b} \\hat{a}_{i}$"
      ],
      "text/plain": [
       "<IPython.core.display.Math object>"
      ]
     },
     "metadata": {},
     "output_type": "display_data"
    }
   ],
   "source": [
    "latex(expr)"
   ]
  },
  {
   "cell_type": "markdown",
   "metadata": {},
   "source": [
    "Let's evaluate a more complex expression\n",
    "\\begin{equation}\n",
    "\\langle \\Phi | \\hat{\\Lambda}_1 [\\hat{F}, \\hat{T}_1] | \\Phi \\rangle\n",
    "\\end{equation}\n",
    "where \n",
    "\\begin{equation}\n",
    "\\hat{\\Lambda}_1 =\n",
    "\\sum_{i}^\\mathbb{O} \\sum_{a}^\\mathbb{V} \\lambda_{i}^{a} \\{ \\hat{a}^{i}_{a} \\} \n",
    "\\end{equation}"
   ]
  },
  {
   "cell_type": "code",
   "execution_count": 6,
   "metadata": {},
   "outputs": [
    {
     "data": {
      "text/latex": [
       "$\\displaystyle - {f}^{j}_{i} {\\lambda}^{a}_{j} {t}^{i}_{a} \\\\ \n",
       "+ {f}^{b}_{a} {\\lambda}^{a}_{i} {t}^{i}_{b}$"
      ],
      "text/plain": [
       "<IPython.core.display.Math object>"
      ]
     },
     "metadata": {},
     "output_type": "display_data"
    }
   ],
   "source": [
    "L1 = w.op('lambda',['o+ v'])\n",
    "opexpr = L1 @ w.commutator(F,T1)\n",
    "expr = wt.contract(opexpr,0,0)\n",
    "latex(expr)"
   ]
  },
  {
   "cell_type": "markdown",
   "metadata": {},
   "source": [
    "## Example: Coupled cluster energy expression\n",
    "\n",
    "Here we compute the coupled cluster energy expression\n",
    "\\begin{equation}\n",
    "E = \\langle \\Phi | e^{-\\hat{T}} \\hat{H} e^{\\hat{T}} | \\Phi \\rangle\n",
    "= E_0 + \\sum_{i}^\\mathbb{O} \\sum_{a}^\\mathbb{V} f^{a}_{i} t^{i}_{a} + \n",
    "\\frac{1}{4} \\sum_{ij}^\\mathbb{O} \\sum_{ab}^\\mathbb{V}\n",
    " (t^{i j}_{a b} + 2 t^{i}_{a} t^{j}_{b}) v^{a b}_{i j} \n",
    "\\end{equation}\n",
    "We first define the full Hamiltonian operator and the cluster operator"
   ]
  },
  {
   "cell_type": "code",
   "execution_count": 7,
   "metadata": {},
   "outputs": [],
   "source": [
    "E0 = w.op(\"E_0\",[\"\"])\n",
    "F = w.utils.gen_op('f',1,'ov','ov')\n",
    "V = w.utils.gen_op('v',2,'ov','ov')\n",
    "H = E0 + F + V\n",
    "\n",
    "T = w.op(\"t\",[\"v+ o\", \"v+ v+ o o\", \"v+ v+ v+ o o o\"])"
   ]
  },
  {
   "cell_type": "markdown",
   "metadata": {},
   "source": [
    "Next, we compute the operator $e^{-\\hat{T}} \\hat{H} e^{\\hat{T}}$ up to the term quadratic in $\\hat{T}$ and compute the fully contracted term"
   ]
  },
  {
   "cell_type": "code",
   "execution_count": 8,
   "metadata": {},
   "outputs": [
    {
     "data": {
      "text/latex": [
       "$\\displaystyle + {E_{0}}^{}_{} \\\\ \n",
       "+ {f}^{a}_{i} {t}^{i}_{a} \\\\ \n",
       "+\\frac{1}{2} {t}^{i}_{a} {t}^{j}_{b} {v}^{a b}_{i j} \\\\ \n",
       "+\\frac{1}{4} {t}^{i j}_{a b} {v}^{a b}_{i j}$"
      ],
      "text/plain": [
       "<IPython.core.display.Math object>"
      ]
     },
     "metadata": {},
     "output_type": "display_data"
    }
   ],
   "source": [
    "Hbar = w.bch_series(H,T,2)\n",
    "expr = wt.contract(Hbar,0,0)\n",
    "latex(expr)"
   ]
  }
 ],
 "metadata": {
  "anaconda-cloud": {},
  "interpreter": {
   "hash": "88f88d9c6713632702ca46f35cc29abd40712363bdc79e6cb9f82b3a54331305"
  },
  "kernelspec": {
   "display_name": "Python 3",
   "language": "python",
   "name": "python3"
  },
  "language_info": {
   "codemirror_mode": {
    "name": "ipython",
    "version": 3
   },
   "file_extension": ".py",
   "mimetype": "text/x-python",
   "name": "python",
   "nbconvert_exporter": "python",
   "pygments_lexer": "ipython3",
   "version": "3.8.8"
  }
 },
 "nbformat": 4,
 "nbformat_minor": 4
}
