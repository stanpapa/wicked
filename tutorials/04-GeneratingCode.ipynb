{
 "cells": [
  {
   "cell_type": "markdown",
   "metadata": {},
   "source": [
    "# Generating and implementing many-body equations\n",
    "\n",
    "## Preliminaries\n",
    "\n",
    "Once more, let's start by importing Wick&d and defining a Slater determinant reference"
   ]
  },
  {
   "cell_type": "code",
   "execution_count": 1,
   "metadata": {},
   "outputs": [],
   "source": [
    "import wicked as w\n",
    "from IPython.display import display, Math, Latex\n",
    "\n",
    "def latex(expr):\n",
    "    \"\"\"Function to render any object that has a member latex() function\"\"\"\n",
    "    display(Math(expr.latex()))\n",
    "    \n",
    "w.reset_space()\n",
    "w.add_space(\"o\", \"fermion\", \"occupied\",   ['i','j','k','l','m','n'])\n",
    "w.add_space(\"v\", \"fermion\", \"unoccupied\", ['a','b','c','d','e','f']) \n",
    "wt = w.WickTheorem()"
   ]
  },
  {
   "cell_type": "markdown",
   "metadata": {},
   "source": [
    "## Generating equations for fully contracted terms"
   ]
  },
  {
   "cell_type": "markdown",
   "metadata": {},
   "source": [
    "In the previous notebook, we computed the coupled cluster energy expression\n",
    "\\begin{equation}\n",
    "E = \\langle \\Phi | e^{-\\hat{T}} \\hat{H} e^{\\hat{T}} | \\Phi \\rangle\n",
    "= E_0 + \\sum_{i}^\\mathbb{O} \\sum_{a}^\\mathbb{V} f^{a}_{i} t^{i}_{a} + \n",
    "\\frac{1}{4} \\sum_{ij}^\\mathbb{O} \\sum_{ab}^\\mathbb{V}\n",
    " (t^{i j}_{a b} + 2 t^{i}_{a} t^{j}_{b}) v^{a b}_{i j} \n",
    "\\end{equation}\n",
    "with the following code"
   ]
  },
  {
   "cell_type": "code",
   "execution_count": 2,
   "metadata": {},
   "outputs": [
    {
     "data": {
      "text/plain": [
       "E_0^{}_{}\n",
       "+f^{v0}_{o0} t^{o0}_{v0}\n",
       "+1/2 t^{o0}_{v0} t^{o1}_{v1} v^{v0,v1}_{o0,o1}\n",
       "+1/4 t^{o0,o1}_{v0,v1} v^{v0,v1}_{o0,o1}"
      ]
     },
     "execution_count": 2,
     "metadata": {},
     "output_type": "execute_result"
    }
   ],
   "source": [
    "E0 = w.op(\"E_0\",[\"\"])\n",
    "F = w.utils.gen_op('f',1,'ov','ov')\n",
    "V = w.utils.gen_op('v',2,'ov','ov')\n",
    "H = E0 + F + V\n",
    "T = w.op(\"t\",[\"v+ o\", \"v+ v+ o o\"])\n",
    "Hbar = w.bch_series(H,T,2)\n",
    "expr = wt.contract(Hbar,0,0)\n",
    "expr"
   ]
  },
  {
   "cell_type": "markdown",
   "metadata": {},
   "source": [
    "First we convert the expression derived into a set of equations. You get back a dictionary that shows all the components to the equations. The vertical bar (`|`) in the key separates the lower (left) and upper (right) indices in the resulting expression"
   ]
  },
  {
   "cell_type": "code",
   "execution_count": 3,
   "metadata": {},
   "outputs": [
    {
     "data": {
      "text/plain": [
       "{'|': [r^{}_{} +=  E_0^{}_{},\n",
       "  r^{}_{} +=  f^{v0}_{o0} t^{o0}_{v0},\n",
       "  r^{}_{} += 1/2 t^{o0}_{v0} t^{o1}_{v1} v^{v0,v1}_{o0,o1},\n",
       "  r^{}_{} += 1/4 t^{o0,o1}_{v0,v1} v^{v0,v1}_{o0,o1}]}"
      ]
     },
     "execution_count": 3,
     "metadata": {},
     "output_type": "execute_result"
    }
   ],
   "source": [
    "mbeq = expr.to_manybody_equations('r')\n",
    "mbeq"
   ]
  },
  {
   "cell_type": "markdown",
   "metadata": {},
   "source": [
    "## Converting equations to code\n",
    "\n",
    "From the equations generated above, you can get tensor contractions by calling the `compile` function on each individual term in the equations. Here we generate python code that uses numpy's `einsum` function to evaluate contractions. To use this code you will need to import `einsum`\n",
    "```python\n",
    "from numpy import einsum\n",
    "```\n",
    "and you will need to define a dictionary of tensors (`f[\"vo\"],v[\"vvoo\"],t[\"ov\"],...`) of appropriate dimensions:"
   ]
  },
  {
   "cell_type": "code",
   "execution_count": 4,
   "metadata": {},
   "outputs": [
    {
     "name": "stdout",
     "output_type": "stream",
     "text": [
      "r += 1.000000000 * np.einsum(\"->\",E_0[\"\"],optimize=\"optimal\")\n",
      "r += 1.000000000 * np.einsum(\"ai,ia->\",f[\"vo\"],t[\"ov\"],optimize=\"optimal\")\n",
      "r += 0.500000000 * np.einsum(\"ia,jb,abij->\",t[\"ov\"],t[\"ov\"],v[\"vvoo\"],optimize=\"optimal\")\n",
      "r += 0.250000000 * np.einsum(\"ijab,abij->\",t[\"oovv\"],v[\"vvoo\"],optimize=\"optimal\")\n"
     ]
    }
   ],
   "source": [
    "for eq in mbeq['|']:\n",
    "    print(eq.compile('einsum'))"
   ]
  },
  {
   "cell_type": "markdown",
   "metadata": {},
   "source": [
    "## Many-body equations"
   ]
  },
  {
   "cell_type": "markdown",
   "metadata": {},
   "source": [
    "Suppose we want to compute the contributions to the coupled cluster residual equations\n",
    "\\begin{equation}\n",
    "r^{i}_{a} = \\langle \\Phi| \\{ \\hat{a}^\\dagger_{i} \\hat{a}_a \\} [\\hat{F},\\hat{T}_1] | \\Phi \\rangle\n",
    "\\end{equation}\n",
    "Wick&d can compute this quantity using the corresponding **many-body representation** of the operator $[\\hat{F},\\hat{T}_1]$.\n",
    "If you expand the operator $[\\hat{F},\\hat{T}_1]$ into its second quantized operator components we can identify a particle-hole excitation term:\n",
    "\\begin{equation}\n",
    "[\\hat{F},\\hat{T}_1] = g^{j}_{b} \\{ \\hat{a}^\\dagger_{b} \\hat{a}_j \\} + \\cdots\n",
    "\\end{equation}\n",
    "From this expression we see that the residual $r_{a}^{i}$ is precisely the quantity we need to evaluate since\n",
    "\\begin{equation}\n",
    "r^{i}_{a} = \\langle \\Phi| \\{ \\hat{a}^\\dagger_{i} \\hat{a}_a \\} [\\hat{F},\\hat{T}_1] | \\Phi \\rangle\n",
    " = g^{j}_{b}  \\langle \\Phi| \\{ \\hat{a}^\\dagger_{i} \\hat{a}_a \\}  \\{ \\hat{a}^\\dagger_{b} \\hat{a}_j \\}  | \\Phi \\rangle = g^{i}_{a}\n",
    "\\end{equation}\n",
    "where in the last step we applied Wick's theorem to evaluate the expectation value.\n",
    "\n",
    "Let's start by computing $[\\hat{F},\\hat{T}_1]$ with Wick's theorem:"
   ]
  },
  {
   "cell_type": "code",
   "execution_count": 5,
   "metadata": {},
   "outputs": [
    {
     "data": {
      "text/latex": [
       "$\\displaystyle + {f}^{a}_{i} {t}^{j}_{a} \\hat{a}^{i} \\hat{a}_{j} \\\\ \n",
       "- {f}^{a}_{i} {t}^{i}_{b} \\hat{a}^{b} \\hat{a}_{a} \\\\ \n",
       "- {f}^{i}_{j} {t}^{j}_{a} \\hat{a}^{a} \\hat{a}_{i} \\\\ \n",
       "+ {f}^{b}_{a} {t}^{i}_{b} \\hat{a}^{a} \\hat{a}_{i}$"
      ],
      "text/plain": [
       "<IPython.core.display.Math object>"
      ]
     },
     "metadata": {},
     "output_type": "display_data"
    }
   ],
   "source": [
    "F = w.utils.gen_op('f',1,'ov','ov')\n",
    "T1 = w.op(\"t\",[\"v+ o\"])\n",
    "expr = wt.contract(w.commutator(F,T1),2,2)\n",
    "latex(expr)"
   ]
  },
  {
   "cell_type": "markdown",
   "metadata": {},
   "source": [
    "Next, we call `to_manybody_equations` to generate many-body equations"
   ]
  },
  {
   "cell_type": "code",
   "execution_count": 6,
   "metadata": {},
   "outputs": [
    {
     "name": "stdout",
     "output_type": "stream",
     "text": [
      "{'o|o': [g^{o1}_{o0} +=  f^{v0}_{o0} t^{o1}_{v0}], 'o|v': [g^{o0}_{v0} += - f^{o0}_{o1} t^{o1}_{v0}, g^{o0}_{v0} +=  f^{v1}_{v0} t^{o0}_{v1}], 'v|v': [g^{v0}_{v1} += - f^{v0}_{o0} t^{o0}_{v1}]}\n"
     ]
    }
   ],
   "source": [
    "mbeq = expr.to_manybody_equations('g')\n",
    "print(mbeq)"
   ]
  },
  {
   "cell_type": "markdown",
   "metadata": {},
   "source": [
    "Out of all the terms, we select the terms that multiply the excitation operator $\\{ \\hat{a}^\\dagger_{a} \\hat{a}_i \\}$ (`\"o|v\"`)"
   ]
  },
  {
   "cell_type": "code",
   "execution_count": 7,
   "metadata": {},
   "outputs": [
    {
     "data": {
      "text/latex": [
       "$\\displaystyle g^{o0}_{v0} += - f^{o0}_{o1} t^{o1}_{v0}$"
      ],
      "text/plain": [
       "<IPython.core.display.Math object>"
      ]
     },
     "metadata": {},
     "output_type": "display_data"
    },
    {
     "data": {
      "text/latex": [
       "$\\displaystyle g^{o0}_{v0} +=  f^{v1}_{v0} t^{o0}_{v1}$"
      ],
      "text/plain": [
       "<IPython.core.display.Math object>"
      ]
     },
     "metadata": {},
     "output_type": "display_data"
    }
   ],
   "source": [
    "mbeq_ov = mbeq[\"o|v\"]\n",
    "\n",
    "for eq in mbeq_ov:\n",
    "    latex(eq)"
   ]
  },
  {
   "cell_type": "markdown",
   "metadata": {},
   "source": [
    "Lastly, we can compile these equations into code"
   ]
  },
  {
   "cell_type": "code",
   "execution_count": 8,
   "metadata": {},
   "outputs": [
    {
     "name": "stdout",
     "output_type": "stream",
     "text": [
      "gov += -1.000000000 * np.einsum(\"ij,ja->ia\",f[\"oo\"],t[\"ov\"],optimize=\"optimal\")\n",
      "gov += 1.000000000 * np.einsum(\"ba,ib->ia\",f[\"vv\"],t[\"ov\"],optimize=\"optimal\")\n"
     ]
    }
   ],
   "source": [
    "for eq in mbeq_ov:\n",
    "    print(eq.compile('einsum'))"
   ]
  },
  {
   "cell_type": "markdown",
   "metadata": {},
   "source": [
    "## Antisymmetrization of uncontracted operator indices\n",
    "\n",
    "To gain efficiency, Wick&d treats contractions involving inequivalent lines in a special way. Consider the following term contributing to the CCSD doubles amplitude equations that arises from $[\\hat{V}_\\mathrm{ovov},\\hat{T}_2]$ (see the sixth term in Eq. (153) of [Crawford and Schaefer](https://doi.org/10.1002/9780470125915.ch2))\n",
    "\\begin{equation}\n",
    "r^{ij}_{ab} \\leftarrow \\langle \\Phi| \\{ \\hat{a}^\\dagger_{i}\\hat{a}^\\dagger_{j} \\hat{a}_b \\hat{a}_a \\} [\\hat{V}_\\mathrm{ovov},\\hat{T}_2] | \\Phi \\rangle = - P(ij)P(ab) \\sum_{kc} \\langle kb \\| jc \\rangle t^{ik}_{ac}\n",
    "\\end{equation}\n",
    "where $P(pq)$ is an antisymmetric permutation operator [$P(pq)f(p,q) = f(p,q) - f(q,p)$].\n",
    "This expression corresponds to a **single diagram**, but algebraically it consists of **four terms** obtained by index permutations $i \\leftrightarrow j$ and $a \\leftrightarrow b$, so that the residual is antisymmetric with respect to separate permutations of upper and lower indices.\n",
    "\n",
    "Let's first take a look at what happens when we apply Wick's theorem with Wick&d to the quantity $[\\hat{V}_\\mathrm{ovov},\\hat{T}_2]$"
   ]
  },
  {
   "cell_type": "code",
   "execution_count": 9,
   "metadata": {
    "scrolled": true
   },
   "outputs": [
    {
     "data": {
      "text/latex": [
       "$\\displaystyle - {t}^{i k}_{a c} {v}^{j c}_{k b} \\hat{a}^{a} \\hat{a}^{b} \\hat{a}_{j} \\hat{a}_{i}$"
      ],
      "text/plain": [
       "<IPython.core.display.Math object>"
      ]
     },
     "metadata": {},
     "output_type": "display_data"
    }
   ],
   "source": [
    "T2 = w.op(\"t\", [\"v+ v+ o o\"])\n",
    "Vovov = w.op(\"v\", [\"o+ v+ v o\"])\n",
    "expr = wt.contract(w.commutator(Vovov, T2), 4, 4)\n",
    "latex(expr)"
   ]
  },
  {
   "cell_type": "markdown",
   "metadata": {},
   "source": [
    "In Wick&d the two-body part of $[\\hat{V}_\\mathrm{ovov},\\hat{T}_2]$ gives us only a single term\n",
    "\\begin{equation}\n",
    "[\\hat{V}_\\mathrm{ovov},\\hat{T}_2]_\\text{2-body} = - \\sum_{abcijk} \\langle kb \\| jc \\rangle t^{ik}_{ac} \\{ \\hat{a}^{ab}_{ij} \\} = \\sum_{abij} g^{ij}_{ab}  \\{ \\hat{a}^{ab}_{ij} \\}\n",
    "\\end{equation}\n",
    "where the tensor $g^{ij}_{ab}$ is defined as\n",
    "\\begin{equation}\n",
    "g^{ij}_{ab}  = -\\sum_{kc} \\langle kb \\| jc \\rangle t^{ik}_{ac}\n",
    "\\end{equation}\n",
    "**Note that contrary to $r^{ij}_{ab}$, the tensor** $g^{ij}_{ab}$ **does not have any specific index symmetry**. In other words, **you need to enforce the antisymmetry**.\n",
    "<!-- In particular, the many-body tensors generated by wick&d are not guaranteed to be antisymmetric, i -->\n",
    "\n",
    "This quantity is related to the CCSD residual contribution reported above in the following way\n",
    "\\begin{equation}\n",
    "r^{ij}_{ab} \\leftarrow \\langle \\Phi| \\{ \\hat{a}^\\dagger_{i}\\hat{a}^\\dagger_{j} \\hat{a}_b \\hat{a}_a \\} [\\hat{V}_\\mathrm{ovov},\\hat{T}_2] | \\Phi \\rangle = g^{ij}_{ab} - g^{ji}_{ab} - g^{ij}_{ba} + g^{ji}_{ba} = P(ij)P(ab) g^{ij}_{ab}\n",
    "\\end{equation}\n",
    "\n",
    "Therefore, this example shows an important distinction between the traditional projective equation (which yields $P(ij)P(ab) g^{ij}_{ab}$) vs. the many-body approach (which yields $g^{ij}_{ab}$).\n",
    "\n",
    "How are the difference between these two approaches reconciled in practice? When you solve the many-body equations, you must enforce the antisymmetry of the equations, which means that the residual contribution should be written as\n",
    "\\begin{equation}\n",
    "\\sum_{abij} g^{ij}_{ab}  \\{ \\hat{a}^{ab}_{ij} \\}\n",
    "= \\frac{1}{4} \\sum_{abij} (P(ij)P(ab) g^{ij}_{ab})  \\{ \\hat{a}^{ab}_{ij} \\}\n",
    "\\end{equation}\n",
    "The factor $\\frac{1}{4}$ now brings this term in a form consistent with the prefactor we associate with the operator $ \\{ \\hat{a}^{ab}_{ij} \\}$.\n",
    "\n",
    "When you ask Wick&d to compile the many-body equation we again get a single term"
   ]
  },
  {
   "cell_type": "code",
   "execution_count": 10,
   "metadata": {},
   "outputs": [
    {
     "name": "stdout",
     "output_type": "stream",
     "text": [
      "goovv += -1.000000000 * np.einsum(\"ikac,jckb->ijab\",t[\"oovv\"],v[\"ovov\"],optimize=\"optimal\")\n"
     ]
    }
   ],
   "source": [
    "for eq in expr.to_manybody_equations('g')['oo|vv']:\n",
    "    print(eq.compile('einsum'))"
   ]
  },
  {
   "cell_type": "markdown",
   "metadata": {},
   "source": [
    "This is done for efficiency, since the correct term [$P(ij)P(ab) g^{ij}_{ab}$] can be recovered by antisymmetrizing the residual **after adding all the contributions**, for example, in this way\n",
    "```python\n",
    "def antisymmetrize_residual_2(Roovv):\n",
    "    # antisymmetrize the oovv residual\n",
    "    Roovv_anti = np.zeros((nocc,nocc,nvir,nvir))\n",
    "    Roovv_anti += np.einsum(\"ijab->ijab\",Roovv)\n",
    "    Roovv_anti -= np.einsum(\"ijab->jiab\",Roovv)\n",
    "    Roovv_anti -= np.einsum(\"ijab->ijba\",Roovv)\n",
    "    Roovv_anti += np.einsum(\"ijab->jiba\",Roovv)    \n",
    "    return Roovv_anti\n",
    "```"
   ]
  }
 ],
 "metadata": {
  "anaconda-cloud": {},
  "interpreter": {
   "hash": "88f88d9c6713632702ca46f35cc29abd40712363bdc79e6cb9f82b3a54331305"
  },
  "kernelspec": {
   "display_name": "Python 3",
   "language": "python",
   "name": "python3"
  },
  "language_info": {
   "codemirror_mode": {
    "name": "ipython",
    "version": 3
   },
   "file_extension": ".py",
   "mimetype": "text/x-python",
   "name": "python",
   "nbconvert_exporter": "python",
   "pygments_lexer": "ipython3",
   "version": "3.8.8"
  }
 },
 "nbformat": 4,
 "nbformat_minor": 4
}
